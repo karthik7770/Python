{
  "nbformat": 4,
  "nbformat_minor": 0,
  "metadata": {
    "colab": {
      "name": "Copy of Untitled1.ipynb",
      "provenance": [],
      "collapsed_sections": []
    },
    "kernelspec": {
      "name": "python3",
      "display_name": "Python 3"
    },
    "language_info": {
      "name": "python"
    }
  },
  "cells": [
    {
      "cell_type": "code",
      "metadata": {
        "colab": {
          "base_uri": "https://localhost:8080/"
        },
        "id": "0U2Vp83YuSOB",
        "outputId": "82dc259e-b739-4dbc-ad67-f7ad605b0596"
      },
      "source": [
        "l = input()\n",
        "for i in range(len(l)):\n",
        "  print(l[i], end=\" \")"
      ],
      "execution_count": null,
      "outputs": [
        {
          "output_type": "stream",
          "text": [
            "karthikeylhadlfhaljdhfhdv\n",
            "k a r t h i k e y l h a d l f h a l j d h f h d v "
          ],
          "name": "stdout"
        }
      ]
    },
    {
      "cell_type": "code",
      "metadata": {
        "colab": {
          "base_uri": "https://localhost:8080/"
        },
        "id": "pLL25mbB0WiL",
        "outputId": "b5ee331c-0da6-456f-f1de-db7ac6b18d98"
      },
      "source": [
        "str_input = input()\n",
        "str_length = len(str_input)- 1\n",
        "str_length\n",
        "for i in range(str_length):\n",
        "   if i != len(str_input):\n",
        "      print(str_input[i], end=\",\")\n",
        "print(str_input[str_length])"
      ],
      "execution_count": null,
      "outputs": [
        {
          "output_type": "stream",
          "text": [
            "karthik\n",
            "k,a,r,t,h,i,k\n"
          ],
          "name": "stdout"
        }
      ]
    },
    {
      "cell_type": "code",
      "metadata": {
        "colab": {
          "base_uri": "https://localhost:8080/"
        },
        "id": "fr4qECfHDvg5",
        "outputId": "dcbd6230-554f-45f8-b879-ae292e647cb0"
      },
      "source": [
        "int_Value = int(input())\n",
        "str_Space = \" \"\n",
        "print(str(int_Value*1)+str_Space+str(int_Value*2)+str_Space+str(int_Value*3))"
      ],
      "execution_count": null,
      "outputs": [
        {
          "output_type": "stream",
          "text": [
            "52\n",
            "52 104 156\n"
          ],
          "name": "stdout"
        }
      ]
    },
    {
      "cell_type": "code",
      "metadata": {
        "colab": {
          "base_uri": "https://localhost:8080/"
        },
        "id": "CjsOVUdMKuXs",
        "outputId": "99792b7b-40d1-4aa1-e920-ae8ad7d9d1f6"
      },
      "source": [
        "float_Radius = float(input())\n",
        "float_Radius\n",
        "if float_Radius< 0:\n",
        "    print(\"Error\")\n",
        "else:\n",
        "    PI = 3.1415\n",
        "    x= 2*PI*float_Radius\n",
        "    print(round(x,2))\n",
        "    "
      ],
      "execution_count": null,
      "outputs": [
        {
          "output_type": "stream",
          "text": [
            "2\n",
            "12.57\n"
          ],
          "name": "stdout"
        }
      ]
    },
    {
      "cell_type": "code",
      "metadata": {
        "colab": {
          "base_uri": "https://localhost:8080/"
        },
        "id": "A78A0goEznrG",
        "outputId": "bee79514-7908-49e8-9dd4-3d26a15c8c46"
      },
      "source": [
        "month = int(input())\n",
        "if  month == 2:\n",
        "  print(\"28\")\n",
        "elif month >=1 and month <=12:\n",
        " # print(\"valid month\")\n",
        "  if month == 1 or month == 3 or month == 5 or month == 7  or month == 8 or month == 10 or month == 12:\n",
        "    print(\"31\")\n",
        "  else:\n",
        "    print(\"30\")\n",
        "else:\n",
        "  print(\"not valid month\")\n"
      ],
      "execution_count": null,
      "outputs": [
        {
          "output_type": "stream",
          "text": [
            "5\n",
            "valid month\n",
            "31\n"
          ],
          "name": "stdout"
        }
      ]
    },
    {
      "cell_type": "code",
      "metadata": {
        "colab": {
          "base_uri": "https://localhost:8080/"
        },
        "id": "P8X5Uhcd4Bkp",
        "outputId": "bf603ca0-177c-42d4-b18f-d999205b443a"
      },
      "source": [
        "input = int(input())\n",
        "\n",
        "for i in range(5):\n",
        "    print(input)"
      ],
      "execution_count": null,
      "outputs": [
        {
          "output_type": "stream",
          "text": [
            "5\n",
            "0\n",
            "1\n",
            "2\n",
            "3\n",
            "4\n"
          ],
          "name": "stdout"
        }
      ]
    },
    {
      "cell_type": "code",
      "metadata": {
        "colab": {
          "base_uri": "https://localhost:8080/",
          "height": 229
        },
        "id": "XKKPQbZ7yAkR",
        "outputId": "27a68555-8f9e-49dd-a021-723f5b16721b"
      },
      "source": [
        "num = int(input())\n",
        "factorial = 1    \n",
        "if num < 0:    \n",
        "   print(\"negative numbers\")    \n",
        "elif num == 0:    \n",
        "   print(\"The factorial of 0 is 1\")    \n",
        "else:    \n",
        "   for i in range(1,num + 1):    \n",
        "       factorial = factorial*i    \n",
        "   print(\"The factorial of \"+ str(num) +\"is \" +str(factorial)) "
      ],
      "execution_count": null,
      "outputs": [
        {
          "output_type": "error",
          "ename": "TypeError",
          "evalue": "ignored",
          "traceback": [
            "\u001b[0;31m---------------------------------------------------------------------------\u001b[0m",
            "\u001b[0;31mTypeError\u001b[0m                                 Traceback (most recent call last)",
            "\u001b[0;32m<ipython-input-17-c13e96cc40e8>\u001b[0m in \u001b[0;36m<module>\u001b[0;34m()\u001b[0m\n\u001b[0;32m----> 1\u001b[0;31m \u001b[0mnum\u001b[0m \u001b[0;34m=\u001b[0m \u001b[0mint\u001b[0m\u001b[0;34m(\u001b[0m\u001b[0minput\u001b[0m\u001b[0;34m(\u001b[0m\u001b[0;34m)\u001b[0m\u001b[0;34m)\u001b[0m\u001b[0;34m\u001b[0m\u001b[0;34m\u001b[0m\u001b[0m\n\u001b[0m\u001b[1;32m      2\u001b[0m \u001b[0mfactorial\u001b[0m \u001b[0;34m=\u001b[0m \u001b[0;36m1\u001b[0m\u001b[0;34m\u001b[0m\u001b[0;34m\u001b[0m\u001b[0m\n\u001b[1;32m      3\u001b[0m \u001b[0;32mif\u001b[0m \u001b[0mnum\u001b[0m \u001b[0;34m<\u001b[0m \u001b[0;36m0\u001b[0m\u001b[0;34m:\u001b[0m\u001b[0;34m\u001b[0m\u001b[0;34m\u001b[0m\u001b[0m\n\u001b[1;32m      4\u001b[0m    \u001b[0mprint\u001b[0m\u001b[0;34m(\u001b[0m\u001b[0;34m\"negative numbers\"\u001b[0m\u001b[0;34m)\u001b[0m\u001b[0;34m\u001b[0m\u001b[0;34m\u001b[0m\u001b[0m\n\u001b[1;32m      5\u001b[0m \u001b[0;32melif\u001b[0m \u001b[0mnum\u001b[0m \u001b[0;34m==\u001b[0m \u001b[0;36m0\u001b[0m\u001b[0;34m:\u001b[0m\u001b[0;34m\u001b[0m\u001b[0;34m\u001b[0m\u001b[0m\n",
            "\u001b[0;31mTypeError\u001b[0m: 'int' object is not callable"
          ]
        }
      ]
    },
    {
      "cell_type": "code",
      "metadata": {
        "colab": {
          "base_uri": "https://localhost:8080/",
          "height": 229
        },
        "id": "P0VB0rv789BG",
        "outputId": "1e30ffca-e28a-4384-ffb5-d3175a657c47"
      },
      "source": [
        "inputVal = input()\n",
        "listVal = inputVal.split()\n",
        "for i in range(len(listVal)):\n",
        "  print(listVal[i])"
      ],
      "execution_count": null,
      "outputs": [
        {
          "output_type": "error",
          "ename": "TypeError",
          "evalue": "ignored",
          "traceback": [
            "\u001b[0;31m---------------------------------------------------------------------------\u001b[0m",
            "\u001b[0;31mTypeError\u001b[0m                                 Traceback (most recent call last)",
            "\u001b[0;32m<ipython-input-23-fd5f269fda12>\u001b[0m in \u001b[0;36m<module>\u001b[0;34m()\u001b[0m\n\u001b[0;32m----> 1\u001b[0;31m \u001b[0minputVal\u001b[0m \u001b[0;34m=\u001b[0m \u001b[0minput\u001b[0m\u001b[0;34m(\u001b[0m\u001b[0;34m)\u001b[0m\u001b[0;34m\u001b[0m\u001b[0;34m\u001b[0m\u001b[0m\n\u001b[0m\u001b[1;32m      2\u001b[0m \u001b[0;34m\u001b[0m\u001b[0m\n\u001b[1;32m      3\u001b[0m \u001b[0mlistVal\u001b[0m \u001b[0;34m=\u001b[0m \u001b[0minputVal\u001b[0m\u001b[0;34m.\u001b[0m\u001b[0msplit\u001b[0m\u001b[0;34m(\u001b[0m\u001b[0;34m)\u001b[0m\u001b[0;34m\u001b[0m\u001b[0;34m\u001b[0m\u001b[0m\n\u001b[1;32m      4\u001b[0m \u001b[0;32mfor\u001b[0m \u001b[0mi\u001b[0m \u001b[0;32min\u001b[0m \u001b[0mrange\u001b[0m\u001b[0;34m(\u001b[0m\u001b[0mlen\u001b[0m\u001b[0;34m(\u001b[0m\u001b[0mlistVal\u001b[0m\u001b[0;34m)\u001b[0m\u001b[0;34m)\u001b[0m\u001b[0;34m:\u001b[0m\u001b[0;34m\u001b[0m\u001b[0;34m\u001b[0m\u001b[0m\n\u001b[1;32m      5\u001b[0m   \u001b[0mprint\u001b[0m\u001b[0;34m(\u001b[0m\u001b[0mlistVal\u001b[0m\u001b[0;34m[\u001b[0m\u001b[0mi\u001b[0m\u001b[0;34m]\u001b[0m\u001b[0;34m)\u001b[0m\u001b[0;34m\u001b[0m\u001b[0;34m\u001b[0m\u001b[0m\n",
            "\u001b[0;31mTypeError\u001b[0m: 'int' object is not callable"
          ]
        }
      ]
    },
    {
      "cell_type": "code",
      "metadata": {
        "id": "vqXlOVgFCeAD"
      },
      "source": [
        "inputVal = input()\n",
        "listVal = inputVal.split()\n",
        "for i in range(len(listVal)):\n",
        "  print(listVal[i])"
      ],
      "execution_count": null,
      "outputs": []
    },
    {
      "cell_type": "code",
      "metadata": {
        "id": "1XPLA25E43Dx",
        "colab": {
          "base_uri": "https://localhost:8080/"
        },
        "outputId": "10cd96ac-eba4-47a9-e3da-3aaa34d34bc1"
      },
      "source": [
        "emp_data = {23:\"ajay\",45:\"partiban\",78:\"sukumar\"}\n",
        "print(emp_data)\n",
        "print(emp_data[23])\n",
        "print(emp_data.keys())\n",
        "print(list(emp_data.values()).index(\"sukumar\"))\n",
        "print(list(emp_data.keys())[list(emp_data.values()).index(\"sukumar\")])\n",
        "print(list(emp_data.values()))\n",
        "\n",
        "\n",
        "\n",
        "#print(list(emp_data.keys())[list(emp_data.values()).index(112)])"
      ],
      "execution_count": null,
      "outputs": [
        {
          "output_type": "stream",
          "text": [
            "{23: 'ajay', 45: 'partiban', 78: 'sukumar'}\n",
            "ajay\n",
            "dict_keys([23, 45, 78])\n",
            "2\n",
            "78\n",
            "['ajay', 'partiban', 'sukumar']\n"
          ],
          "name": "stdout"
        }
      ]
    }
  ]
}