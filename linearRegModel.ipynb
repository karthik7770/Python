{
  "nbformat": 4,
  "nbformat_minor": 0,
  "metadata": {
    "colab": {
      "name": "linearRegModel.ipynb",
      "provenance": [],
      "collapsed_sections": [],
      "include_colab_link": true
    },
    "kernelspec": {
      "display_name": "Python 3",
      "language": "python",
      "name": "python3"
    },
    "language_info": {
      "codemirror_mode": {
        "name": "ipython",
        "version": 3
      },
      "file_extension": ".py",
      "mimetype": "text/x-python",
      "name": "python",
      "nbconvert_exporter": "python",
      "pygments_lexer": "ipython3",
      "version": "3.8.8"
    }
  },
  "cells": [
    {
      "cell_type": "markdown",
      "metadata": {
        "id": "view-in-github",
        "colab_type": "text"
      },
      "source": [
        "<a href=\"https://colab.research.google.com/github/karthik7770/Python/blob/main/linearRegModel.ipynb\" target=\"_parent\"><img src=\"https://colab.research.google.com/assets/colab-badge.svg\" alt=\"Open In Colab\"/></a>"
      ]
    },
    {
      "cell_type": "code",
      "metadata": {
        "id": "L_YQipaPM95G"
      },
      "source": [
        "import pandas as pd\n",
        "import matplotlib.pyplot as plt\n",
        "import pickle\n",
        "%matplotlib inline"
      ],
      "execution_count": null,
      "outputs": []
    },
    {
      "cell_type": "code",
      "metadata": {
        "colab": {
          "base_uri": "https://localhost:8080/",
          "height": 203
        },
        "id": "4SSkN3QeQmHo",
        "outputId": "6b850747-2aca-4e2a-d624-bdbc5e3484bd"
      },
      "source": [
        "df = pd.read_csv('Admission_Prediction.csv')\n",
        "df.head()"
      ],
      "execution_count": null,
      "outputs": [
        {
          "data": {
            "text/html": [
              "<div>\n",
              "<style scoped>\n",
              "    .dataframe tbody tr th:only-of-type {\n",
              "        vertical-align: middle;\n",
              "    }\n",
              "\n",
              "    .dataframe tbody tr th {\n",
              "        vertical-align: top;\n",
              "    }\n",
              "\n",
              "    .dataframe thead th {\n",
              "        text-align: right;\n",
              "    }\n",
              "</style>\n",
              "<table border=\"1\" class=\"dataframe\">\n",
              "  <thead>\n",
              "    <tr style=\"text-align: right;\">\n",
              "      <th></th>\n",
              "      <th>Serial No.</th>\n",
              "      <th>GRE Score</th>\n",
              "      <th>TOEFL Score</th>\n",
              "      <th>University Rating</th>\n",
              "      <th>SOP</th>\n",
              "      <th>LOR</th>\n",
              "      <th>CGPA</th>\n",
              "      <th>Research</th>\n",
              "      <th>Chance of Admit</th>\n",
              "    </tr>\n",
              "  </thead>\n",
              "  <tbody>\n",
              "    <tr>\n",
              "      <th>0</th>\n",
              "      <td>1</td>\n",
              "      <td>337.0</td>\n",
              "      <td>118.0</td>\n",
              "      <td>4.0</td>\n",
              "      <td>4.5</td>\n",
              "      <td>4.5</td>\n",
              "      <td>9.65</td>\n",
              "      <td>1</td>\n",
              "      <td>0.92</td>\n",
              "    </tr>\n",
              "    <tr>\n",
              "      <th>1</th>\n",
              "      <td>2</td>\n",
              "      <td>324.0</td>\n",
              "      <td>107.0</td>\n",
              "      <td>4.0</td>\n",
              "      <td>4.0</td>\n",
              "      <td>4.5</td>\n",
              "      <td>8.87</td>\n",
              "      <td>1</td>\n",
              "      <td>0.76</td>\n",
              "    </tr>\n",
              "    <tr>\n",
              "      <th>2</th>\n",
              "      <td>3</td>\n",
              "      <td>NaN</td>\n",
              "      <td>104.0</td>\n",
              "      <td>3.0</td>\n",
              "      <td>3.0</td>\n",
              "      <td>3.5</td>\n",
              "      <td>8.00</td>\n",
              "      <td>1</td>\n",
              "      <td>0.72</td>\n",
              "    </tr>\n",
              "    <tr>\n",
              "      <th>3</th>\n",
              "      <td>4</td>\n",
              "      <td>322.0</td>\n",
              "      <td>110.0</td>\n",
              "      <td>3.0</td>\n",
              "      <td>3.5</td>\n",
              "      <td>2.5</td>\n",
              "      <td>8.67</td>\n",
              "      <td>1</td>\n",
              "      <td>0.80</td>\n",
              "    </tr>\n",
              "    <tr>\n",
              "      <th>4</th>\n",
              "      <td>5</td>\n",
              "      <td>314.0</td>\n",
              "      <td>103.0</td>\n",
              "      <td>2.0</td>\n",
              "      <td>2.0</td>\n",
              "      <td>3.0</td>\n",
              "      <td>8.21</td>\n",
              "      <td>0</td>\n",
              "      <td>0.65</td>\n",
              "    </tr>\n",
              "  </tbody>\n",
              "</table>\n",
              "</div>"
            ],
            "text/plain": [
              "   Serial No.  GRE Score  TOEFL Score  University Rating  SOP  LOR  CGPA  \\\n",
              "0           1      337.0        118.0                4.0  4.5  4.5  9.65   \n",
              "1           2      324.0        107.0                4.0  4.0  4.5  8.87   \n",
              "2           3        NaN        104.0                3.0  3.0  3.5  8.00   \n",
              "3           4      322.0        110.0                3.0  3.5  2.5  8.67   \n",
              "4           5      314.0        103.0                2.0  2.0  3.0  8.21   \n",
              "\n",
              "   Research  Chance of Admit  \n",
              "0         1             0.92  \n",
              "1         1             0.76  \n",
              "2         1             0.72  \n",
              "3         1             0.80  \n",
              "4         0             0.65  "
            ]
          },
          "execution_count": 36,
          "metadata": {},
          "output_type": "execute_result"
        }
      ]
    },
    {
      "cell_type": "code",
      "metadata": {
        "colab": {
          "base_uri": "https://localhost:8080/"
        },
        "id": "WZK46AY0Q-sr",
        "outputId": "ccc4e013-a136-4d1e-9245-08aa54ce6ae9"
      },
      "source": [
        "print(df.shape)\n",
        "df.info()\n",
        "df.isna().sum()"
      ],
      "execution_count": null,
      "outputs": [
        {
          "name": "stdout",
          "output_type": "stream",
          "text": [
            "(500, 9)\n",
            "<class 'pandas.core.frame.DataFrame'>\n",
            "RangeIndex: 500 entries, 0 to 499\n",
            "Data columns (total 9 columns):\n",
            " #   Column             Non-Null Count  Dtype  \n",
            "---  ------             --------------  -----  \n",
            " 0   Serial No.         500 non-null    int64  \n",
            " 1   GRE Score          485 non-null    float64\n",
            " 2   TOEFL Score        490 non-null    float64\n",
            " 3   University Rating  485 non-null    float64\n",
            " 4   SOP                500 non-null    float64\n",
            " 5   LOR                500 non-null    float64\n",
            " 6   CGPA               500 non-null    float64\n",
            " 7   Research           500 non-null    int64  \n",
            " 8   Chance of Admit    500 non-null    float64\n",
            "dtypes: float64(7), int64(2)\n",
            "memory usage: 35.3 KB\n"
          ]
        },
        {
          "data": {
            "text/plain": [
              "Serial No.            0\n",
              "GRE Score            15\n",
              "TOEFL Score          10\n",
              "University Rating    15\n",
              "SOP                   0\n",
              "LOR                   0\n",
              "CGPA                  0\n",
              "Research              0\n",
              "Chance of Admit       0\n",
              "dtype: int64"
            ]
          },
          "execution_count": 37,
          "metadata": {},
          "output_type": "execute_result"
        }
      ]
    },
    {
      "cell_type": "code",
      "metadata": {
        "colab": {
          "base_uri": "https://localhost:8080/"
        },
        "id": "_8hlm8nfSdum",
        "outputId": "35b557b0-0bd7-47e6-d8a8-b58a00cd6fa6"
      },
      "source": [
        "df['GRE Score'].mode()"
      ],
      "execution_count": null,
      "outputs": [
        {
          "data": {
            "text/plain": [
              "0    312.0\n",
              "1    324.0\n",
              "dtype: float64"
            ]
          },
          "execution_count": 39,
          "metadata": {},
          "output_type": "execute_result"
        }
      ]
    },
    {
      "cell_type": "code",
      "metadata": {
        "id": "3zNCKosdSx8X"
      },
      "source": [
        "#inplace: It is a boolean which makes the changes in data frame itself if True.\n",
        "df['GRE Score'].fillna(df['GRE Score'].mode()[0],inplace = True)\n"
      ],
      "execution_count": null,
      "outputs": []
    },
    {
      "cell_type": "code",
      "metadata": {
        "id": "bM33mq5Z0QtY"
      },
      "source": [
        "df['TOEFL Score'].fillna(df['TOEFL Score'].mode()[0],inplace = True)\n"
      ],
      "execution_count": null,
      "outputs": []
    },
    {
      "cell_type": "code",
      "metadata": {
        "id": "k_rU03VG0Qta"
      },
      "source": [
        "df['University Rating'].fillna(df['University Rating'].mean(),inplace = True)"
      ],
      "execution_count": null,
      "outputs": []
    },
    {
      "cell_type": "code",
      "metadata": {
        "colab": {
          "base_uri": "https://localhost:8080/",
          "height": 203
        },
        "id": "AbgRyUbHeMuD",
        "outputId": "426d99f6-d9ff-4bac-ef7b-7cd9873ee39e"
      },
      "source": [
        "df.head()"
      ],
      "execution_count": null,
      "outputs": [
        {
          "data": {
            "text/html": [
              "<div>\n",
              "<style scoped>\n",
              "    .dataframe tbody tr th:only-of-type {\n",
              "        vertical-align: middle;\n",
              "    }\n",
              "\n",
              "    .dataframe tbody tr th {\n",
              "        vertical-align: top;\n",
              "    }\n",
              "\n",
              "    .dataframe thead th {\n",
              "        text-align: right;\n",
              "    }\n",
              "</style>\n",
              "<table border=\"1\" class=\"dataframe\">\n",
              "  <thead>\n",
              "    <tr style=\"text-align: right;\">\n",
              "      <th></th>\n",
              "      <th>Serial No.</th>\n",
              "      <th>GRE Score</th>\n",
              "      <th>TOEFL Score</th>\n",
              "      <th>University Rating</th>\n",
              "      <th>SOP</th>\n",
              "      <th>LOR</th>\n",
              "      <th>CGPA</th>\n",
              "      <th>Research</th>\n",
              "      <th>Chance of Admit</th>\n",
              "    </tr>\n",
              "  </thead>\n",
              "  <tbody>\n",
              "    <tr>\n",
              "      <th>0</th>\n",
              "      <td>1</td>\n",
              "      <td>337.0</td>\n",
              "      <td>118.0</td>\n",
              "      <td>4.0</td>\n",
              "      <td>4.5</td>\n",
              "      <td>4.5</td>\n",
              "      <td>9.65</td>\n",
              "      <td>1</td>\n",
              "      <td>0.92</td>\n",
              "    </tr>\n",
              "    <tr>\n",
              "      <th>1</th>\n",
              "      <td>2</td>\n",
              "      <td>324.0</td>\n",
              "      <td>107.0</td>\n",
              "      <td>4.0</td>\n",
              "      <td>4.0</td>\n",
              "      <td>4.5</td>\n",
              "      <td>8.87</td>\n",
              "      <td>1</td>\n",
              "      <td>0.76</td>\n",
              "    </tr>\n",
              "    <tr>\n",
              "      <th>2</th>\n",
              "      <td>3</td>\n",
              "      <td>312.0</td>\n",
              "      <td>104.0</td>\n",
              "      <td>3.0</td>\n",
              "      <td>3.0</td>\n",
              "      <td>3.5</td>\n",
              "      <td>8.00</td>\n",
              "      <td>1</td>\n",
              "      <td>0.72</td>\n",
              "    </tr>\n",
              "    <tr>\n",
              "      <th>3</th>\n",
              "      <td>4</td>\n",
              "      <td>322.0</td>\n",
              "      <td>110.0</td>\n",
              "      <td>3.0</td>\n",
              "      <td>3.5</td>\n",
              "      <td>2.5</td>\n",
              "      <td>8.67</td>\n",
              "      <td>1</td>\n",
              "      <td>0.80</td>\n",
              "    </tr>\n",
              "    <tr>\n",
              "      <th>4</th>\n",
              "      <td>5</td>\n",
              "      <td>314.0</td>\n",
              "      <td>103.0</td>\n",
              "      <td>2.0</td>\n",
              "      <td>2.0</td>\n",
              "      <td>3.0</td>\n",
              "      <td>8.21</td>\n",
              "      <td>0</td>\n",
              "      <td>0.65</td>\n",
              "    </tr>\n",
              "  </tbody>\n",
              "</table>\n",
              "</div>"
            ],
            "text/plain": [
              "   Serial No.  GRE Score  TOEFL Score  University Rating  SOP  LOR  CGPA  \\\n",
              "0           1      337.0        118.0                4.0  4.5  4.5  9.65   \n",
              "1           2      324.0        107.0                4.0  4.0  4.5  8.87   \n",
              "2           3      312.0        104.0                3.0  3.0  3.5  8.00   \n",
              "3           4      322.0        110.0                3.0  3.5  2.5  8.67   \n",
              "4           5      314.0        103.0                2.0  2.0  3.0  8.21   \n",
              "\n",
              "   Research  Chance of Admit  \n",
              "0         1             0.92  \n",
              "1         1             0.76  \n",
              "2         1             0.72  \n",
              "3         1             0.80  \n",
              "4         0             0.65  "
            ]
          },
          "execution_count": 43,
          "metadata": {},
          "output_type": "execute_result"
        }
      ]
    },
    {
      "cell_type": "code",
      "metadata": {
        "id": "5aJDkN4XfZdX"
      },
      "source": [
        "#dropping below two column since its not gonne be use as feature\n",
        "x = df.drop(['Serial No.','Chance of Admit'],axis = 1)\n",
        "#y value is our expected output\n",
        "y = df['Chance of Admit']\n"
      ],
      "execution_count": null,
      "outputs": []
    },
    {
      "cell_type": "code",
      "metadata": {
        "id": "5qywi5kK0Qtg",
        "outputId": "ec6d43dd-2f28-497a-dfe3-07c0df355c89"
      },
      "source": [
        "x.head()\n",
        "y.head()"
      ],
      "execution_count": null,
      "outputs": [
        {
          "data": {
            "text/plain": [
              "0    0.92\n",
              "1    0.76\n",
              "2    0.72\n",
              "3    0.80\n",
              "4    0.65\n",
              "Name: Chance of Admit, dtype: float64"
            ]
          },
          "execution_count": 45,
          "metadata": {},
          "output_type": "execute_result"
        }
      ]
    },
    {
      "cell_type": "code",
      "metadata": {
        "id": "r8p6B0Smgifd",
        "outputId": "1e93bd93-be16-457e-c18d-b22124b45ba3"
      },
      "source": [
        "for col in x.columns:\n",
        "    plt.scatter(x[col],y)\n",
        "    plt.xlabel(col)\n",
        "    plt.ylabel('Chance of Admit')\n",
        "    plt.show()"
      ],
      "execution_count": null,
      "outputs": [
        {
          "data": {
            "image/png": "[encoded data removed]",
            "text/plain": [
              "<Figure size 432x288 with 1 Axes>"
            ]
          },
          "metadata": {
            "needs_background": "light"
          },
          "output_type": "display_data"
        },
        {
          "data": {
            "image/png": "[encoded data removed]",
            "text/plain": [
              "<Figure size 432x288 with 1 Axes>"
            ]
          },
          "metadata": {
            "needs_background": "light"
          },
          "output_type": "display_data"
        },
        {
          "data": {
            "image/png": "[encoded data removed]",
            "text/plain": [
              "<Figure size 432x288 with 1 Axes>"
            ]
          },
          "metadata": {
            "needs_background": "light"
          },
          "output_type": "display_data"
        },
        {
          "data": {
            "image/png": "[encoded data removed]",
            "text/plain": [
              "<Figure size 432x288 with 1 Axes>"
            ]
          },
          "metadata": {
            "needs_background": "light"
          },
          "output_type": "display_data"
        },
        {
          "data": {
            "image/png": "[encoded data removed]",
            "text/plain": [
              "<Figure size 432x288 with 1 Axes>"
            ]
          },
          "metadata": {
            "needs_background": "light"
          },
          "output_type": "display_data"
        },
        {
          "data": {
            "image/png": "[encoded data removed]",
            "text/plain": [
              "<Figure size 432x288 with 1 Axes>"
            ]
          },
          "metadata": {
            "needs_background": "light"
          },
          "output_type": "display_data"
        },
        {
          "data": {
            "image/png": "[encoded data removed]",
            "text/plain": [
              "<Figure size 432x288 with 1 Axes>"
            ]
          },
          "metadata": {
            "needs_background": "light"
          },
          "output_type": "display_data"
        }
      ]
    },
    {
      "cell_type": "code",
      "metadata": {
        "id": "qDbdEMCF0Qti",
        "outputId": "b0d26290-adc0-4845-a42e-357bfceec3dd"
      },
      "source": [
        "#trying to scale teh data\n",
        "from sklearn.preprocessing import StandardScaler\n",
        "scaler_feature = StandardScaler()\n",
        "scaler_data = scaler_feature.fit_transform(x)\n",
        "print(scaler_data)"
      ],
      "execution_count": null,
      "outputs": [
        {
          "name": "stdout",
          "output_type": "stream",
          "text": [
            "[[ 1.85052822  1.77547686  0.77890565 ...  1.09894429  1.77680627\n",
            "   0.88640526]\n",
            " [ 0.68147064 -0.04027672  0.77890565 ...  1.09894429  0.48585943\n",
            "   0.88640526]\n",
            " [-0.39765943 -0.53548224 -0.1078766  ...  0.01730621 -0.95404281\n",
            "   0.88640526]\n",
            " ...\n",
            " [ 1.22103568  2.10561387  1.66568791 ...  1.63976333  1.62785086\n",
            "   0.88640526]\n",
            " [-0.39765943 -0.70055074  0.77890565 ...  1.63976333 -0.24236699\n",
            "  -1.12815215]\n",
            " [ 0.95125316  0.95013432  0.77890565 ...  1.09894429  0.76721964\n",
            "  -1.12815215]]\n"
          ]
        }
      ]
    },
    {
      "cell_type": "code",
      "metadata": {
        "id": "0RRoAbEa0Qti"
      },
      "source": [
        "#spliting data into training and test set\n",
        "from sklearn.model_selection import train_test_split\n",
        "t_x,test_x,t_y,test_y = train_test_split(x,y,test_size=0.33,random_state=100)"
      ],
      "execution_count": null,
      "outputs": []
    },
    {
      "cell_type": "code",
      "metadata": {
        "id": "XN3z7kz30Qtj",
        "outputId": "012f5dad-5829-4ea2-f44a-f21b32cf58d7"
      },
      "source": [
        "from sklearn import linear_model\n",
        "reg = linear_model.LinearRegression()\n",
        "reg.fit(t_x,t_y)"
      ],
      "execution_count": null,
      "outputs": [
        {
          "data": {
            "text/plain": [
              "LinearRegression()"
            ]
          },
          "execution_count": 50,
          "metadata": {},
          "output_type": "execute_result"
        }
      ]
    },
    {
      "cell_type": "code",
      "metadata": {
        "id": "lI-jX1ZI0Qtk",
        "outputId": "f4706b30-11e5-486c-fb8f-2f783a316ca6"
      },
      "source": [
        "reg.predict(test_x)"
      ],
      "execution_count": null,
      "outputs": [
        {
          "data": {
            "text/plain": [
              "array([0.85868396, 0.47100161, 0.6280096 , 0.44578053, 0.64598598,\n",
              "       0.85398867, 0.58423805, 0.6708053 , 0.81576593, 0.68391898,\n",
              "       0.66322789, 0.60710496, 0.89390747, 0.76122405, 0.63653857,\n",
              "       0.50101692, 0.5932031 , 0.74550918, 0.56026094, 0.71477719,\n",
              "       0.89825968, 0.60985982, 0.85096431, 0.82326697, 0.99808338,\n",
              "       0.60354515, 0.68321824, 0.93662411, 0.87713203, 0.70043558,\n",
              "       0.78420399, 0.85380635, 0.7502154 , 0.55268936, 0.73961435,\n",
              "       0.78262859, 0.79567973, 0.57756558, 0.54007331, 0.70184561,\n",
              "       0.94815906, 0.58454502, 0.83942492, 0.78608391, 0.8110905 ,\n",
              "       0.54729563, 0.59557674, 0.87410501, 0.95154098, 0.59880994,\n",
              "       0.81659257, 0.70920574, 0.80814867, 0.99084397, 0.64359316,\n",
              "       0.85476613, 0.6179743 , 0.89711609, 0.76941624, 0.73447114,\n",
              "       0.68813814, 0.62390397, 0.47604256, 0.8832669 , 0.64759615,\n",
              "       0.68476495, 0.70437717, 0.45943371, 0.84033595, 0.84308359,\n",
              "       0.92763891, 0.77439541, 0.65730255, 0.83786836, 0.64625876,\n",
              "       0.77453732, 0.53242801, 0.74388083, 0.93393122, 0.95051024,\n",
              "       0.6076588 , 0.66069962, 0.9120666 , 0.65170389, 0.85504477,\n",
              "       0.79702574, 0.64301418, 0.58803932, 0.6739946 , 0.6055102 ,\n",
              "       0.62856622, 0.57882704, 0.64018331, 0.95161974, 0.91609799,\n",
              "       0.75624036, 0.84744486, 0.75917561, 0.52393258, 0.83158801,\n",
              "       0.51381588, 0.56120046, 0.93610183, 0.53572109, 0.57088196,\n",
              "       0.76657144, 0.62003759, 0.73442563, 0.57361956, 0.61063832,\n",
              "       0.4949801 , 0.87007959, 0.78100791, 0.84381294, 0.61089614,\n",
              "       0.55650595, 0.69708561, 0.55521471, 0.50835004, 0.65207033,\n",
              "       0.89667871, 0.67423735, 0.49389091, 0.64502102, 0.72210667,\n",
              "       0.6655592 , 0.70215919, 0.52534441, 0.6479463 , 0.80281401,\n",
              "       0.41300686, 0.7801169 , 0.64669684, 0.62480187, 0.57677116,\n",
              "       0.93193595, 0.71430017, 0.92192073, 0.70358205, 0.62714882,\n",
              "       0.69250325, 0.49994324, 0.4668804 , 0.67447614, 0.61263647,\n",
              "       0.684876  , 0.87514699, 0.47296742, 0.77290997, 0.83656497,\n",
              "       0.73687227, 0.92479031, 0.7431661 , 0.63625991, 0.84418791,\n",
              "       0.91135095, 0.82470089, 0.55135928, 0.57060717, 0.74389877,\n",
              "       0.87035492, 0.70132621, 0.67220172, 0.53462551, 0.73948354])"
            ]
          },
          "execution_count": 56,
          "metadata": {},
          "output_type": "execute_result"
        }
      ]
    },
    {
      "cell_type": "code",
      "metadata": {
        "id": "t-4ut2HC0Qtl",
        "outputId": "291247b4-e277-4fc6-b4a2-e6e67affb188"
      },
      "source": [
        "from sklearn.metrics import r2_score\n",
        "score = r2_score(reg.predict(t_x),t_y)\n",
        "score"
      ],
      "execution_count": null,
      "outputs": [
        {
          "data": {
            "text/plain": [
              "0.7740751737527217"
            ]
          },
          "execution_count": 52,
          "metadata": {},
          "output_type": "execute_result"
        }
      ]
    },
    {
      "cell_type": "code",
      "metadata": {
        "id": "5LqtCYr20Qtl"
      },
      "source": [
        "filename = 'final_linearModel.pickle'\n",
        "pickle.dump(reg,open(filename,'wb'))"
      ],
      "execution_count": null,
      "outputs": []
    },
    {
      "cell_type": "code",
      "metadata": {
        "id": "MntqYLU-0Qtl",
        "outputId": "00f8f011-d614-40b4-d0e4-71c68d36100a"
      },
      "source": [
        "#predict using saved model.\n",
        "loaded_model = pickle.load(open(filename,'rb'))\n",
        "\n",
        "a = loaded_model.predict(scaler_feature.transform([[300,110,5,5,5,10,1]]))\n",
        "print(a)\n",
        "print(a[0])"
      ],
      "execution_count": null,
      "outputs": [
        {
          "name": "stdout",
          "output_type": "stream",
          "text": [
            "-0.9119024283140007\n"
          ]
        }
      ]
    },
    {
      "cell_type": "code",
      "metadata": {
        "id": "0s6--Xc00Qtm"
      },
      "source": [
        ""
      ],
      "execution_count": null,
      "outputs": []
    }
  ]
}